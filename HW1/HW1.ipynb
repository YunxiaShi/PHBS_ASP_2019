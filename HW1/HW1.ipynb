{
 "cells": [
  {
   "cell_type": "markdown",
   "metadata": {},
   "source": [
    "# HW 1: Corporate Bond Pricing (due by 9.17 Tues)"
   ]
  },
  {
   "cell_type": "markdown",
   "metadata": {},
   "source": [
    "We are going to compute the price of a corporate bond (subject to default) with Monte-Carlo simulation. Assume that \n",
    "* the default time of a company follows the exponential distribution with intensity $\\lambda=$__`def_rate`__. \n",
    "* the riskfree interest rate is $r_f=$__`rf_rate`__ and the maturity of the bond is $T=$__`mat`__. \n",
    "* in the case of default, you can recover some portion ($R=$__`recovery_rate`__) of the face value.\n",
    "* the coupon is 0%, i.e., it is a zero-coupon bond.\n",
    "* the face value of the bond is 1.0\n",
    "* use compound rate for discounting; the price of the default-free bond is $e^{-r_f T}$\n",
    "\n",
    "The Problem 1 of the [2017 ASP Midterm Exam](../files/ASP2017_Midterm.pdf) will be helpful.\n",
    "\n",
    "### Instruction to upload your HW\n",
    "* Create a repository named __`PHBS_ASP_2019`__ (and clone it to your PC)\n",
    "* Copy this file to __`PHBS_ASP_2019/HW1/HW1.ipynb`__  (Please use the same name for repository and ipynb file)\n",
    "* Add solution code.\n",
    "* Run your your code to make sure that there's no error.\n",
    "* Upload (commit and sync) your file."
   ]
  },
  {
   "cell_type": "markdown",
   "metadata": {},
   "source": [
    "### 1. First, let's create a pricing function and check the std "
   ]
  },
  {
   "cell_type": "code",
   "execution_count": 3,
   "metadata": {},
   "outputs": [],
   "source": [
    "import numpy as np"
   ]
  },
  {
   "cell_type": "code",
   "execution_count": 4,
   "metadata": {},
   "outputs": [],
   "source": [
    "def_rate = 0.1\n",
    "rf_rate = 0.03\n",
    "recovery = 0.3\n",
    "mat = 10"
   ]
  },
  {
   "cell_type": "markdown",
   "metadata": {},
   "source": []
  },
  {
   "cell_type": "code",
   "execution_count": 5,
   "metadata": {},
   "outputs": [
    {
     "data": {
      "text/plain": [
       "(9.94512048770397, 10.0)"
      ]
     },
     "execution_count": 5,
     "metadata": {},
     "output_type": "execute_result"
    }
   ],
   "source": [
    "# First generate exponential random numbers\n",
    "# Although you can generate directly using fault_time = np.random.exponential(scale=), let's use uniform random numbers.\n",
    "n_sample = 10000\n",
    "U = np.random.uniform(size=n_sample)\n",
    "default_time = -(1/def_rate)*np.log(U)\n",
    "\n",
    "# You can check if the RNs are correct by comparing the means\n",
    "(default_time.mean(), 1/def_rate)"
   ]
  },
  {
   "cell_type": "code",
   "execution_count": 7,
   "metadata": {},
   "outputs": [
    {
     "name": "stdout",
     "output_type": "stream",
     "text": [
      "The price of the bond using Monte-Carlo simulation is 0.44086886037231543\n",
      "price Mean and Std using Monte-Carlo simulation is 0.44049428001337526 0.0023016759538935947\n"
     ]
    }
   ],
   "source": [
    "# Put your code here to price the corporate bond\n",
    "\n",
    "def corp_bond(mat=1, def_rate=0.03, rf_rate=0.04, recovery=0.3, n_sample=1e4):\n",
    "    \n",
    "    U = np.random.uniform(size=n_sample)\n",
    "    default_time = -(1/def_rate)*np.log(U)\n",
    "\n",
    "    price_default_free = np.exp(-1 * rf_rate * mat)\n",
    "    price1 = np.exp(-1 * rf_rate * default_time[default_time < mat]) * recovery\n",
    "    price2 = price_default_free * np.ones_like(default_time[default_time >= mat])\n",
    "    price = np.mean(np.hstack((price1, price2)))\n",
    "    \n",
    "    return price\n",
    "\n",
    "# Call your function\n",
    "price = corp_bond(mat, def_rate, rf_rate, recovery, n_sample)\n",
    "print(\"The price of the bond using Monte-Carlo simulation is\", price)\n",
    "\n",
    "# Find the mean and std by calling the function 100 times. \n",
    "n_path = 100\n",
    "price_lst0 = []\n",
    "for i in range(n_path):\n",
    "    price = corp_bond(mat, def_rate, rf_rate, recovery, n_sample)\n",
    "    price_lst0.append(price)\n",
    "\n",
    "print(\"price Mean and Std using Monte-Carlo simulation is\", np.mean(price_lst0), np.std(price_lst0))\n"
   ]
  },
  {
   "cell_type": "markdown",
   "metadata": {},
   "source": [
    "### 2. Now, let's improve the function by reducing the MC variations.\n",
    "1. Use antithetic method: If `U` is uniform random variable, so is `1-U`\n",
    "2. Also shift the RNs to match the mean, `1/def_rate`"
   ]
  },
  {
   "cell_type": "code",
   "execution_count": 11,
   "metadata": {},
   "outputs": [
    {
     "data": {
      "text/plain": [
       "(9.999999999999998, 10.0)"
      ]
     },
     "execution_count": 11,
     "metadata": {},
     "output_type": "execute_result"
    }
   ],
   "source": [
    "# For example, antithetic method mean\n",
    "n_sample = 10000\n",
    "U = np.random.uniform(size=n_sample//2)\n",
    "default_time = -(1/def_rate)*np.log(np.concatenate((U,1-U),axis=0))\n",
    "\n",
    "# Mean-matching means\n",
    "default_time += 1/def_rate-default_time.mean()\n",
    "(default_time.mean(), 1/def_rate)"
   ]
  },
  {
   "cell_type": "code",
   "execution_count": 12,
   "metadata": {},
   "outputs": [
    {
     "name": "stdout",
     "output_type": "stream",
     "text": [
      "price Mean and Std using antithetic method is 0.440670045061649 0.001842184736807297\n",
      "price Mean and Std using mean_match method is 0.44007874954475507 0.0015187097182368472\n",
      "price Mean and Std using antithetic and mean_match method is 0.44043913541700974 0.0015644966424027927\n"
     ]
    }
   ],
   "source": [
    "# Now include the two new features: `antithetic` and `mean_match`\n",
    "\n",
    "def corp_bond_cv(mat=1, def_rate=0.03, rf_rate=0.04, recovery=0.3, n_sample=1e4, antithetic=True, mean_match=True):\n",
    "\n",
    "    if antithetic and not mean_match:\n",
    "        U = np.random.uniform(size=n_sample//2)\n",
    "        default_time = -(1/def_rate) * np.log(np.concatenate((U,1-U), axis=0))\n",
    "        \n",
    "    if mean_match and not antithetic:\n",
    "        U = np.random.uniform(size=n_sample)\n",
    "        default_time = -(1/def_rate) * np.log(U)\n",
    "        default_time += 1/def_rate - default_time.mean()\n",
    "        \n",
    "    if mean_match and antithetic:\n",
    "        U = np.random.uniform(size=n_sample//2)\n",
    "        default_time = -(1/def_rate) * np.log(np.concatenate((U,1-U), axis=0))\n",
    "        default_time += 1/def_rate - default_time.mean()\n",
    "    \n",
    "    price_default_free = np.exp(-1 * rf_rate * mat)\n",
    "    price1 = np.exp(-1 * rf_rate * default_time[default_time < mat]) * recovery\n",
    "    price2 = price_default_free * np.ones_like(default_time[default_time >= mat])\n",
    "    price = np.mean(np.hstack((price1, price2)))\n",
    "    \n",
    "    return price\n",
    "\n",
    "# Find the mean and std by calling the function 100 times for (i) antithetic (ii) mean_match and (iii) both\n",
    "price_lst1, price_lst2, price_lst3  = [], [], []\n",
    "for i in range(n_path):\n",
    "    price1 = corp_bond_cv(mat, def_rate, rf_rate, recovery, n_sample, antithetic=True, mean_match=False)\n",
    "    price2 = corp_bond_cv(mat, def_rate, rf_rate, recovery, n_sample, antithetic=False, mean_match=True)\n",
    "    price3 = corp_bond_cv(mat, def_rate, rf_rate, recovery, n_sample, antithetic=True, mean_match=True)\n",
    "    price_lst1.append(price1)\n",
    "    price_lst2.append(price2)\n",
    "    price_lst3.append(price3)\n",
    "\n",
    "print(\"price Mean and Std using antithetic method is\", np.mean(price_lst1), np.std(price_lst1))\n",
    "print(\"price Mean and Std using mean_match method is\", np.mean(price_lst2), np.std(price_lst2))\n",
    "print(\"price Mean and Std using antithetic and mean_match method is\", np.mean(price_lst3), np.std(price_lst3))"
   ]
  },
  {
   "cell_type": "markdown",
   "metadata": {
    "collapsed": true
   },
   "source": [
    "### 3. Finally, what is the analytic value of the corporate bond? How does it compare to your MC result above?"
   ]
  },
  {
   "cell_type": "code",
   "execution_count": 13,
   "metadata": {},
   "outputs": [
    {
     "name": "stdout",
     "output_type": "stream",
     "text": [
      "The analytic value of the corporate bond is 0.44040907156462505\n"
     ]
    }
   ],
   "source": [
    "### Put the analytic expression for the corporate bond price\n",
    "def pricing_analytic(mat=1, def_rate=0.03, rf_rate=0.04, recovery=0.3):\n",
    "\n",
    "    exp1 = np.exp(-1 * (rf_rate + def_rate) * mat)\n",
    "    price = exp1 + (1-exp1) * def_rate * recovery / (def_rate+rf_rate)\n",
    "\n",
    "    return price\n",
    "\n",
    "price = pricing_analytic(mat, def_rate, rf_rate, recovery)\n",
    "print(\"The analytic value of the corporate bond is\", price)"
   ]
  },
  {
   "cell_type": "code",
   "execution_count": 14,
   "metadata": {},
   "outputs": [
    {
     "name": "stdout",
     "output_type": "stream",
     "text": [
      "The error between analytic value and Monte-Carlo simulation is -8.520844875020694e-05\n",
      "The error between analytic value and antithetic method is -0.0002609734970239197\n",
      "The error between analytic value and mean-match method is 0.00033032201986998855\n",
      "The error between analytic value and antithetic & mean-match method is -3.006385238468745e-05\n"
     ]
    }
   ],
   "source": [
    "print(\"The error between analytic value and Monte-Carlo simulation is\", price - np.mean(price_lst0))\n",
    "print(\"The error between analytic value and antithetic method is\", price - np.mean(price_lst1))\n",
    "print(\"The error between analytic value and mean-match method is\", price - np.mean(price_lst2))\n",
    "print(\"The error between analytic value and antithetic & mean-match method is\", price - np.mean(price_lst3))"
   ]
  }
 ],
 "metadata": {
  "anaconda-cloud": {},
  "kernelspec": {
   "display_name": "Python 3",
   "language": "python",
   "name": "python3"
  },
  "language_info": {
   "codemirror_mode": {
    "name": "ipython",
    "version": 3
   },
   "file_extension": ".py",
   "mimetype": "text/x-python",
   "name": "python",
   "nbconvert_exporter": "python",
   "pygments_lexer": "ipython3",
   "version": "3.6.5"
  }
 },
 "nbformat": 4,
 "nbformat_minor": 1
}
